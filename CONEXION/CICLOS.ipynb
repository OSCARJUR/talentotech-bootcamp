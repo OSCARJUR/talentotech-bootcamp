{
  "nbformat": 4,
  "nbformat_minor": 0,
  "metadata": {
    "colab": {
      "provenance": []
    },
    "kernelspec": {
      "name": "python3",
      "display_name": "Python 3"
    },
    "language_info": {
      "name": "python"
    }
  },
  "cells": [
    {
      "cell_type": "code",
      "execution_count": 4,
      "metadata": {
        "colab": {
          "base_uri": "https://localhost:8080/"
        },
        "id": "skCEWfb8JodJ",
        "outputId": "ac10fabe-1f2c-41c2-9eab-17bf34aebe05"
      },
      "outputs": [
        {
          "output_type": "stream",
          "name": "stdout",
          "text": [
            "Las personas que ingresen deben tener edades entre los 18 y 99 anos \n",
            "\n",
            "Digite el nombre de la persona 1: qw\n",
            "Digite la edad de qw: 23\n",
            "EDAD DENTRO DEL RANGO\n",
            "Digite el nombre de la persona 2: re\n",
            "Digite la edad de re: 34\n",
            "EDAD DENTRO DEL RANGO\n",
            "Digite el nombre de la persona 3: re\n",
            "Digite la edad de re: 43\n",
            "EDAD DENTRO DEL RANGO\n",
            "Digite el nombre de la persona 4: ttt\n",
            "Digite la edad de ttt: 54\n",
            "EDAD DENTRO DEL RANGO\n",
            "Digite el nombre de la persona 5: asw\n",
            "Digite la edad de asw: 25\n",
            "EDAD DENTRO DEL RANGO\n",
            "\n",
            "Lista de nombres ingresados: ['qw', 're', 're', 'ttt', 'asw']\n",
            "0 nombre(s) comienzan con 'A'\n"
          ]
        }
      ],
      "source": [
        "# Cree una simulación de llenado de formulario donde se pide la edad y se validad que sea un numero entre 18 y 99. Si no es valido, se repite.\n",
        "a = 0\n",
        "nombres = []\n",
        "print(\"Las personas que ingresen deben tener edades entre los 18 y 99 anos \")\n",
        "print(\"\")\n",
        "for i in range(5):\n",
        "    nom = input(f\"Digite el nombre de la persona {i+1}: \")\n",
        "    while True:\n",
        "        try:\n",
        "            edad = int(input(f\"Digite la edad de {nom}: \"))\n",
        "            if 18 <= edad <= 99:\n",
        "                print(\"EDAD DENTRO DEL RANGO\")\n",
        "                break\n",
        "            else:\n",
        "                print(\"EDAD FUERA DEL RANGO\")\n",
        "        except ValueError:\n",
        "            print(\"Entrada inválida. Por favor, ingrese un número para la edad.\")\n",
        "\n",
        "    nombres.append(nom)\n",
        "    # Con startswith me detecta solamente los nombres que comienzan con a mayuscula\n",
        "    # si el nombre comienza con a minuscula no lo tendra en cuenta\n",
        "    if nom.startswith(\"A\"):\n",
        "        a += 1\n",
        "\n",
        "print(f\"\\nLista de nombres ingresados: {nombres}\")\n",
        "print(f\"{a} nombre(s) comienzan con 'A'\")"
      ]
    }
  ]
}